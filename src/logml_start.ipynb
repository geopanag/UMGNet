{
 "cells": [
  {
   "cell_type": "code",
   "execution_count": 2,
   "metadata": {},
   "outputs": [],
   "source": [
    "import pandas as pd \n",
    "import os\n",
    "import numpy as np\n",
    "import json \n",
    "import torch\n",
    "from sklearn.preprocessing import StandardScaler\n"
   ]
  },
  {
   "cell_type": "markdown",
   "metadata": {},
   "source": [
    "### Predicting Causal Estimates with Limited Supervision\n",
    "In this notebook we:\n",
    "\n",
    "- Utilize a graph neural network to predict the effect of a marketing campaign to the user's consumption.\n",
    "\n",
    "- Evaluate the impact of supervision i.e. how many users have already participated in the campaign and what was the observed outcome.\n",
    "\n",
    "- We compare our model with standard causal machine learning methods.\n",
    "\n",
    "- We evaluate the method in terms of both uplift and accuracy metrics.\n"
   ]
  },
  {
   "cell_type": "markdown",
   "metadata": {},
   "source": [
    "### Load the data"
   ]
  },
  {
   "cell_type": "code",
   "execution_count": 15,
   "metadata": {},
   "outputs": [
    {
     "data": {
      "text/plain": [
       "HeteroData(\n",
       "  (user, buys, product)={\n",
       "    edge_index=[2, 14543339],\n",
       "    treatment=[14543339],\n",
       "  },\n",
       "  user={\n",
       "    x=[180653, 7],\n",
       "    t=[180653],\n",
       "    y=[180653],\n",
       "  },\n",
       "  products={ num_products=40542 }\n",
       ")"
      ]
     },
     "execution_count": 15,
     "metadata": {},
     "output_type": "execute_result"
    }
   ],
   "source": [
    "import torch\n",
    "\n",
    "retailhero = torch.load(\"/Users/georgepanagopoulos/Desktop/research/causal_inference/data/retailhero_pyg/processed/data.pt\")[0]\n",
    "retailhero"
   ]
  },
  {
   "cell_type": "code",
   "execution_count": 19,
   "metadata": {},
   "outputs": [],
   "source": [
    "with open('/Users/georgepanagopoulos/Desktop/research/causal_inference/code/UMGNet/src/config_RetailHero.json', 'r') as config_file:\n",
    "        config = json.load(config_file)\n",
    "n_hidden = config[\"n_hidden\"]\n",
    "no_layers = config[\"no_layers\"]\n",
    "out_channels = config[\"out_channels\"]\n",
    "num_epochs = config[\"num_epochs\"]\n",
    "lr = config[\"lr\"]\n",
    "results_file_name = config['results_file_name']\n",
    "model_file_name = config[\"model_file\"]\n",
    "early_thres = config['early_stopping_threshold']\n",
    "l2_reg = config['l2_reg']\n",
    "with_lp = config['with_label_prop'] == 1\n",
    "number_of_runs = config['number_of_runs']\n",
    "dropout = config['dropout']"
   ]
  },
  {
   "cell_type": "code",
   "execution_count": null,
   "metadata": {},
   "outputs": [],
   "source": []
  }
 ],
 "metadata": {
  "kernelspec": {
   "display_name": "ml",
   "language": "python",
   "name": "python3"
  },
  "language_info": {
   "codemirror_mode": {
    "name": "ipython",
    "version": 3
   },
   "file_extension": ".py",
   "mimetype": "text/x-python",
   "name": "python",
   "nbconvert_exporter": "python",
   "pygments_lexer": "ipython3",
   "version": "3.9.17"
  }
 },
 "nbformat": 4,
 "nbformat_minor": 2
}
